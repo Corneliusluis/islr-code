{
 "cells": [
  {
   "cell_type": "markdown",
   "metadata": {},
   "source": [
    "## Section 2.3 - Lab: Introduction to R"
   ]
  },
  {
   "cell_type": "markdown",
   "metadata": {},
   "source": [
    "### Section 2.3.1 - Basic Commands"
   ]
  },
  {
   "cell_type": "code",
   "execution_count": 1,
   "metadata": {
    "vscode": {
     "languageId": "r"
    }
   },
   "outputs": [
    {
     "data": {
      "text/html": [
       "<style>\n",
       ".list-inline {list-style: none; margin:0; padding: 0}\n",
       ".list-inline>li {display: inline-block}\n",
       ".list-inline>li:not(:last-child)::after {content: \"\\00b7\"; padding: 0 .5ex}\n",
       "</style>\n",
       "<ol class=list-inline><li>1</li><li>2</li><li>3</li><li>5</li></ol>\n"
      ],
      "text/latex": [
       "\\begin{enumerate*}\n",
       "\\item 1\n",
       "\\item 2\n",
       "\\item 3\n",
       "\\item 5\n",
       "\\end{enumerate*}\n"
      ],
      "text/markdown": [
       "1. 1\n",
       "2. 2\n",
       "3. 3\n",
       "4. 5\n",
       "\n",
       "\n"
      ],
      "text/plain": [
       "[1] 1 2 3 5"
      ]
     },
     "metadata": {},
     "output_type": "display_data"
    }
   ],
   "source": [
    "# use concatenate function to make a vector and assign it to \"x\" variable\n",
    "x <- c(1, 2, 3, 5)\n",
    "x"
   ]
  },
  {
   "cell_type": "code",
   "execution_count": 2,
   "metadata": {
    "vscode": {
     "languageId": "r"
    }
   },
   "outputs": [
    {
     "data": {
      "text/html": [
       "<style>\n",
       ".list-inline {list-style: none; margin:0; padding: 0}\n",
       ".list-inline>li {display: inline-block}\n",
       ".list-inline>li:not(:last-child)::after {content: \"\\00b7\"; padding: 0 .5ex}\n",
       "</style>\n",
       "<ol class=list-inline><li>1</li><li>4</li><li>3</li></ol>\n"
      ],
      "text/latex": [
       "\\begin{enumerate*}\n",
       "\\item 1\n",
       "\\item 4\n",
       "\\item 3\n",
       "\\end{enumerate*}\n"
      ],
      "text/markdown": [
       "1. 1\n",
       "2. 4\n",
       "3. 3\n",
       "\n",
       "\n"
      ],
      "text/plain": [
       "[1] 1 4 3"
      ]
     },
     "metadata": {},
     "output_type": "display_data"
    }
   ],
   "source": [
    "# equal sign also can be used to assign value to variable\n",
    "y =  c(1, 4, 3)\n",
    "y"
   ]
  },
  {
   "cell_type": "code",
   "execution_count": 3,
   "metadata": {
    "vscode": {
     "languageId": "r"
    }
   },
   "outputs": [
    {
     "data": {
      "text/html": [
       "4"
      ],
      "text/latex": [
       "4"
      ],
      "text/markdown": [
       "4"
      ],
      "text/plain": [
       "[1] 4"
      ]
     },
     "metadata": {},
     "output_type": "display_data"
    }
   ],
   "source": [
    "# checking the length of the vector\n",
    "length(x)"
   ]
  },
  {
   "cell_type": "code",
   "execution_count": 4,
   "metadata": {
    "vscode": {
     "languageId": "r"
    }
   },
   "outputs": [
    {
     "data": {
      "text/html": [
       "4"
      ],
      "text/latex": [
       "4"
      ],
      "text/markdown": [
       "4"
      ],
      "text/plain": [
       "[1] 4"
      ]
     },
     "metadata": {},
     "output_type": "display_data"
    },
    {
     "data": {
      "text/html": [
       "3"
      ],
      "text/latex": [
       "3"
      ],
      "text/markdown": [
       "3"
      ],
      "text/plain": [
       "[1] 3"
      ]
     },
     "metadata": {},
     "output_type": "display_data"
    },
    {
     "name": "stderr",
     "output_type": "stream",
     "text": [
      "Warning message in x + y:\n",
      "\"longer object length is not a multiple of shorter object length\"\n"
     ]
    },
    {
     "data": {
      "text/html": [
       "<style>\n",
       ".list-inline {list-style: none; margin:0; padding: 0}\n",
       ".list-inline>li {display: inline-block}\n",
       ".list-inline>li:not(:last-child)::after {content: \"\\00b7\"; padding: 0 .5ex}\n",
       "</style>\n",
       "<ol class=list-inline><li>2</li><li>6</li><li>6</li><li>6</li></ol>\n"
      ],
      "text/latex": [
       "\\begin{enumerate*}\n",
       "\\item 2\n",
       "\\item 6\n",
       "\\item 6\n",
       "\\item 6\n",
       "\\end{enumerate*}\n"
      ],
      "text/markdown": [
       "1. 2\n",
       "2. 6\n",
       "3. 6\n",
       "4. 6\n",
       "\n",
       "\n"
      ],
      "text/plain": [
       "[1] 2 6 6 6"
      ]
     },
     "metadata": {},
     "output_type": "display_data"
    }
   ],
   "source": [
    "# adding two sets of numbers together, but it needs to be on the same length\n",
    "length(x)\n",
    "length(y)\n",
    "x + y"
   ]
  },
  {
   "cell_type": "code",
   "execution_count": 5,
   "metadata": {
    "vscode": {
     "languageId": "r"
    }
   },
   "outputs": [
    {
     "data": {
      "text/html": [
       "<style>\n",
       ".list-inline {list-style: none; margin:0; padding: 0}\n",
       ".list-inline>li {display: inline-block}\n",
       ".list-inline>li:not(:last-child)::after {content: \"\\00b7\"; padding: 0 .5ex}\n",
       "</style>\n",
       "<ol class=list-inline><li>'x'</li><li>'y'</li></ol>\n"
      ],
      "text/latex": [
       "\\begin{enumerate*}\n",
       "\\item 'x'\n",
       "\\item 'y'\n",
       "\\end{enumerate*}\n"
      ],
      "text/markdown": [
       "1. 'x'\n",
       "2. 'y'\n",
       "\n",
       "\n"
      ],
      "text/plain": [
       "[1] \"x\" \"y\""
      ]
     },
     "metadata": {},
     "output_type": "display_data"
    }
   ],
   "source": [
    "# checking lists of function that's available\n",
    "ls()"
   ]
  },
  {
   "cell_type": "code",
   "execution_count": 6,
   "metadata": {
    "vscode": {
     "languageId": "r"
    }
   },
   "outputs": [],
   "source": [
    "# removing selected list, in this case x and y. When we try to call x again, it will return an error\n",
    "rm(x, y)\n",
    "# x"
   ]
  },
  {
   "cell_type": "code",
   "execution_count": 7,
   "metadata": {
    "vscode": {
     "languageId": "r"
    }
   },
   "outputs": [
    {
     "name": "stdout",
     "output_type": "stream",
     "text": [
      "matrix                  package:base                   R Documentation\n",
      "\n",
      "_\bM_\ba_\bt_\br_\bi_\bc_\be_\bs\n",
      "\n",
      "_\bD_\be_\bs_\bc_\br_\bi_\bp_\bt_\bi_\bo_\bn:\n",
      "\n",
      "     'matrix' creates a matrix from the given set of values.\n",
      "\n",
      "     'as.matrix' attempts to turn its argument into a matrix.\n",
      "\n",
      "     'is.matrix' tests if its argument is a (strict) matrix.\n",
      "\n",
      "_\bU_\bs_\ba_\bg_\be:\n",
      "\n",
      "     matrix(data = NA, nrow = 1, ncol = 1, byrow = FALSE,\n",
      "            dimnames = NULL)\n",
      "     \n",
      "     as.matrix(x, ...)\n",
      "     ## S3 method for class 'data.frame'\n",
      "     as.matrix(x, rownames.force = NA, ...)\n",
      "     \n",
      "     is.matrix(x)\n",
      "     \n",
      "_\bA_\br_\bg_\bu_\bm_\be_\bn_\bt_\bs:\n",
      "\n",
      "    data: an optional data vector (including a list or 'expression'\n",
      "          vector).  Non-atomic classed R objects are coerced by\n",
      "          'as.vector' and all attributes discarded.\n",
      "\n",
      "    nrow: the desired number of rows.\n",
      "\n",
      "    ncol: the desired number of columns.\n",
      "\n",
      "   byrow: logical. If 'FALSE' (the default) the matrix is filled by\n",
      "          columns, otherwise the matrix is filled by rows.\n",
      "\n",
      "dimnames: A 'dimnames' attribute for the matrix: 'NULL' or a 'list' of\n",
      "          length 2 giving the row and column names respectively.  An\n",
      "          empty list is treated as 'NULL', and a list of length one as\n",
      "          row names.  The list can be named, and the list names will be\n",
      "          used as names for the dimensions.\n",
      "\n",
      "       x: an R object.\n",
      "\n",
      "     ...: additional arguments to be passed to or from methods.\n",
      "\n",
      "rownames.force: logical indicating if the resulting matrix should have\n",
      "          character (rather than 'NULL') 'rownames'.  The default,\n",
      "          'NA', uses 'NULL' rownames if the data frame has 'automatic'\n",
      "          row.names or for a zero-row data frame.\n",
      "\n",
      "_\bD_\be_\bt_\ba_\bi_\bl_\bs:\n",
      "\n",
      "     If one of 'nrow' or 'ncol' is not given, an attempt is made to\n",
      "     infer it from the length of 'data' and the other parameter.  If\n",
      "     neither is given, a one-column matrix is returned.\n",
      "\n",
      "     If there are too few elements in 'data' to fill the matrix, then\n",
      "     the elements in 'data' are recycled.  If 'data' has length zero,\n",
      "     'NA' of an appropriate type is used for atomic vectors ('0' for\n",
      "     raw vectors) and 'NULL' for lists.\n",
      "\n",
      "     'is.matrix' returns 'TRUE' if 'x' is a vector and has a '\"dim\"'\n",
      "     attribute of length 2 and 'FALSE' otherwise.  Note that a\n",
      "     'data.frame' is *not* a matrix by this test.  The function is\n",
      "     generic: you can write methods to handle specific classes of\n",
      "     objects, see InternalMethods.\n",
      "\n",
      "     'as.matrix' is a generic function.  The method for data frames\n",
      "     will return a character matrix if there is only atomic columns and\n",
      "     any non-(numeric/logical/complex) column, applying 'as.vector' to\n",
      "     factors and 'format' to other non-character columns.  Otherwise,\n",
      "     the usual coercion hierarchy (logical < integer < double <\n",
      "     complex) will be used, e.g., all-logical data frames will be\n",
      "     coerced to a logical matrix, mixed logical-integer will give a\n",
      "     integer matrix, etc.\n",
      "\n",
      "     The default method for 'as.matrix' calls 'as.vector(x)', and hence\n",
      "     e.g. coerces factors to character vectors.\n",
      "\n",
      "     When coercing a vector, it produces a one-column matrix, and\n",
      "     promotes the names (if any) of the vector to the rownames of the\n",
      "     matrix.\n",
      "\n",
      "     'is.matrix' is a primitive function.\n",
      "\n",
      "     The 'print' method for a matrix gives a rectangular layout with\n",
      "     dimnames or indices.  For a list matrix, the entries of length not\n",
      "     one are printed in the form 'integer,7' indicating the type and\n",
      "     length.\n",
      "\n",
      "_\bN_\bo_\bt_\be:\n",
      "\n",
      "     If you just want to convert a vector to a matrix, something like\n",
      "\n",
      "       dim(x) <- c(nx, ny)\n",
      "       dimnames(x) <- list(row_names, col_names)\n",
      "     \n",
      "     will avoid duplicating 'x' _and_ preserve 'class(x)' which may be\n",
      "     useful, e.g., for 'Date' objects.\n",
      "\n",
      "_\bR_\be_\bf_\be_\br_\be_\bn_\bc_\be_\bs:\n",
      "\n",
      "     Becker, R. A., Chambers, J. M. and Wilks, A. R. (1988) _The New S\n",
      "     Language_.  Wadsworth & Brooks/Cole.\n",
      "\n",
      "_\bS_\be_\be _\bA_\bl_\bs_\bo:\n",
      "\n",
      "     'data.matrix', which attempts to convert to a numeric matrix.\n",
      "\n",
      "     A matrix is the special case of a two-dimensional 'array'.  Since\n",
      "     R 4.0.0, 'inherits(m, \"array\")' is true for a 'matrix' 'm'.\n",
      "\n",
      "_\bE_\bx_\ba_\bm_\bp_\bl_\be_\bs:\n",
      "\n",
      "     is.matrix(as.matrix(1:10))\n",
      "     !is.matrix(warpbreaks)  # data.frame, NOT matrix!\n",
      "     warpbreaks[1:10,]\n",
      "     as.matrix(warpbreaks[1:10,])  # using as.matrix.data.frame(.) method\n",
      "     \n",
      "     ## Example of setting row and column names\n",
      "     mdat <- matrix(c(1,2,3, 11,12,13), nrow = 2, ncol = 3, byrow = TRUE,\n",
      "                    dimnames = list(c(\"row1\", \"row2\"),\n",
      "                                    c(\"C.1\", \"C.2\", \"C.3\")))\n",
      "     mdat\n",
      "     "
     ]
    }
   ],
   "source": [
    "# use the \"?\" symbol to find the documentation of mentioned function\n",
    "?matrix"
   ]
  },
  {
   "cell_type": "code",
   "execution_count": 8,
   "metadata": {
    "vscode": {
     "languageId": "r"
    }
   },
   "outputs": [
    {
     "data": {
      "text/html": [
       "<table class=\"dataframe\">\n",
       "<caption>A matrix: 2 × 2 of type dbl</caption>\n",
       "<tbody>\n",
       "\t<tr><td>1</td><td>3</td></tr>\n",
       "\t<tr><td>2</td><td>4</td></tr>\n",
       "</tbody>\n",
       "</table>\n"
      ],
      "text/latex": [
       "A matrix: 2 × 2 of type dbl\n",
       "\\begin{tabular}{ll}\n",
       "\t 1 & 3\\\\\n",
       "\t 2 & 4\\\\\n",
       "\\end{tabular}\n"
      ],
      "text/markdown": [
       "\n",
       "A matrix: 2 × 2 of type dbl\n",
       "\n",
       "| 1 | 3 |\n",
       "| 2 | 4 |\n",
       "\n"
      ],
      "text/plain": [
       "     [,1] [,2]\n",
       "[1,] 1    3   \n",
       "[2,] 2    4   "
      ]
     },
     "metadata": {},
     "output_type": "display_data"
    }
   ],
   "source": [
    "# here is the implementation of matrix function, just like in the documentation\n",
    "x = matrix(data = c(1, 2, 3, 4), nrow = 2, ncol = 2)\n",
    "x"
   ]
  },
  {
   "cell_type": "code",
   "execution_count": 9,
   "metadata": {
    "vscode": {
     "languageId": "r"
    }
   },
   "outputs": [
    {
     "data": {
      "text/html": [
       "<table class=\"dataframe\">\n",
       "<caption>A matrix: 2 × 2 of type dbl</caption>\n",
       "<tbody>\n",
       "\t<tr><td>1</td><td>3</td></tr>\n",
       "\t<tr><td>2</td><td>4</td></tr>\n",
       "</tbody>\n",
       "</table>\n"
      ],
      "text/latex": [
       "A matrix: 2 × 2 of type dbl\n",
       "\\begin{tabular}{ll}\n",
       "\t 1 & 3\\\\\n",
       "\t 2 & 4\\\\\n",
       "\\end{tabular}\n"
      ],
      "text/markdown": [
       "\n",
       "A matrix: 2 × 2 of type dbl\n",
       "\n",
       "| 1 | 3 |\n",
       "| 2 | 4 |\n",
       "\n"
      ],
      "text/plain": [
       "     [,1] [,2]\n",
       "[1,] 1    3   \n",
       "[2,] 2    4   "
      ]
     },
     "metadata": {},
     "output_type": "display_data"
    }
   ],
   "source": [
    "# the function allow us to omit some syntax with the input must be in order\n",
    "y = matrix(c(1, 2, 3, 4), 2, 2, FALSE)\n",
    "y"
   ]
  },
  {
   "cell_type": "code",
   "execution_count": 11,
   "metadata": {
    "vscode": {
     "languageId": "r"
    }
   },
   "outputs": [
    {
     "data": {
      "text/html": [
       "<table class=\"dataframe\">\n",
       "<caption>A matrix: 2 × 2 of type dbl</caption>\n",
       "<tbody>\n",
       "\t<tr><td>1.000000</td><td>1.732051</td></tr>\n",
       "\t<tr><td>1.414214</td><td>2.000000</td></tr>\n",
       "</tbody>\n",
       "</table>\n"
      ],
      "text/latex": [
       "A matrix: 2 × 2 of type dbl\n",
       "\\begin{tabular}{ll}\n",
       "\t 1.000000 & 1.732051\\\\\n",
       "\t 1.414214 & 2.000000\\\\\n",
       "\\end{tabular}\n"
      ],
      "text/markdown": [
       "\n",
       "A matrix: 2 × 2 of type dbl\n",
       "\n",
       "| 1.000000 | 1.732051 |\n",
       "| 1.414214 | 2.000000 |\n",
       "\n"
      ],
      "text/plain": [
       "     [,1]     [,2]    \n",
       "[1,] 1.000000 1.732051\n",
       "[2,] 1.414214 2.000000"
      ]
     },
     "metadata": {},
     "output_type": "display_data"
    },
    {
     "data": {
      "text/html": [
       "<table class=\"dataframe\">\n",
       "<caption>A matrix: 2 × 2 of type dbl</caption>\n",
       "<tbody>\n",
       "\t<tr><td>1</td><td> 9</td></tr>\n",
       "\t<tr><td>4</td><td>16</td></tr>\n",
       "</tbody>\n",
       "</table>\n"
      ],
      "text/latex": [
       "A matrix: 2 × 2 of type dbl\n",
       "\\begin{tabular}{ll}\n",
       "\t 1 &  9\\\\\n",
       "\t 4 & 16\\\\\n",
       "\\end{tabular}\n"
      ],
      "text/markdown": [
       "\n",
       "A matrix: 2 × 2 of type dbl\n",
       "\n",
       "| 1 |  9 |\n",
       "| 4 | 16 |\n",
       "\n"
      ],
      "text/plain": [
       "     [,1] [,2]\n",
       "[1,] 1     9  \n",
       "[2,] 4    16  "
      ]
     },
     "metadata": {},
     "output_type": "display_data"
    }
   ],
   "source": [
    "# here are some other functions to manipulate the matrices values\n",
    "sqrt(x)\n",
    "x^2"
   ]
  },
  {
   "cell_type": "code",
   "execution_count": 17,
   "metadata": {
    "vscode": {
     "languageId": "r"
    }
   },
   "outputs": [
    {
     "data": {
      "text/html": [
       "<style>\n",
       ".list-inline {list-style: none; margin:0; padding: 0}\n",
       ".list-inline>li {display: inline-block}\n",
       ".list-inline>li:not(:last-child)::after {content: \"\\00b7\"; padding: 0 .5ex}\n",
       "</style>\n",
       "<ol class=list-inline><li>2.14688527068586</li><li>0.43900887522084</li><li>1.94315332258974</li><li>1.11908060709249</li><li>0.190193257232768</li><li>0.474231147510319</li><li>0.322680645458396</li><li>0.919540394420691</li><li>-0.200375346837511</li><li>0.901754211017173</li><li>2.03884008928319</li><li>-0.225281228886792</li><li>0.271357672183464</li><li>0.598181242057378</li><li>1.4386280093056</li><li>0.992694372246778</li><li>1.0577848132694</li><li>0.319625045338054</li><li>-0.989171270294627</li><li>-0.640533561449097</li><li>1.0646197032913</li><li>0.403771555061852</li><li>-1.75837508773163</li><li>-0.53454024545977</li><li>-2.25836064047453</li><li>1.42608795064692</li><li>0.835395515034678</li><li>1.69642666045429</li><li>0.411993976077305</li><li>0.543941297973361</li><li>-1.13728825300636</li><li>-0.0382239622464657</li><li>-1.13447373060495</li><li>0.294451523328122</li><li>0.888144060326363</li><li>-1.12509000095514</li><li>0.0604481702481791</li><li>0.26099109009689</li><li>-0.706245254596521</li><li>-1.59783426806574</li><li>-1.48974380610522</li><li>-0.555009179864553</li><li>-0.66973309607245</li><li>0.118484858489761</li><li>-1.41105225081528</li><li>-0.491573874524247</li><li>-0.423047660190062</li><li>1.25723449037396</li><li>-0.223866128295892</li><li>-1.04205722815436</li></ol>\n"
      ],
      "text/latex": [
       "\\begin{enumerate*}\n",
       "\\item 2.14688527068586\n",
       "\\item 0.43900887522084\n",
       "\\item 1.94315332258974\n",
       "\\item 1.11908060709249\n",
       "\\item 0.190193257232768\n",
       "\\item 0.474231147510319\n",
       "\\item 0.322680645458396\n",
       "\\item 0.919540394420691\n",
       "\\item -0.200375346837511\n",
       "\\item 0.901754211017173\n",
       "\\item 2.03884008928319\n",
       "\\item -0.225281228886792\n",
       "\\item 0.271357672183464\n",
       "\\item 0.598181242057378\n",
       "\\item 1.4386280093056\n",
       "\\item 0.992694372246778\n",
       "\\item 1.0577848132694\n",
       "\\item 0.319625045338054\n",
       "\\item -0.989171270294627\n",
       "\\item -0.640533561449097\n",
       "\\item 1.0646197032913\n",
       "\\item 0.403771555061852\n",
       "\\item -1.75837508773163\n",
       "\\item -0.53454024545977\n",
       "\\item -2.25836064047453\n",
       "\\item 1.42608795064692\n",
       "\\item 0.835395515034678\n",
       "\\item 1.69642666045429\n",
       "\\item 0.411993976077305\n",
       "\\item 0.543941297973361\n",
       "\\item -1.13728825300636\n",
       "\\item -0.0382239622464657\n",
       "\\item -1.13447373060495\n",
       "\\item 0.294451523328122\n",
       "\\item 0.888144060326363\n",
       "\\item -1.12509000095514\n",
       "\\item 0.0604481702481791\n",
       "\\item 0.26099109009689\n",
       "\\item -0.706245254596521\n",
       "\\item -1.59783426806574\n",
       "\\item -1.48974380610522\n",
       "\\item -0.555009179864553\n",
       "\\item -0.66973309607245\n",
       "\\item 0.118484858489761\n",
       "\\item -1.41105225081528\n",
       "\\item -0.491573874524247\n",
       "\\item -0.423047660190062\n",
       "\\item 1.25723449037396\n",
       "\\item -0.223866128295892\n",
       "\\item -1.04205722815436\n",
       "\\end{enumerate*}\n"
      ],
      "text/markdown": [
       "1. 2.14688527068586\n",
       "2. 0.43900887522084\n",
       "3. 1.94315332258974\n",
       "4. 1.11908060709249\n",
       "5. 0.190193257232768\n",
       "6. 0.474231147510319\n",
       "7. 0.322680645458396\n",
       "8. 0.919540394420691\n",
       "9. -0.200375346837511\n",
       "10. 0.901754211017173\n",
       "11. 2.03884008928319\n",
       "12. -0.225281228886792\n",
       "13. 0.271357672183464\n",
       "14. 0.598181242057378\n",
       "15. 1.4386280093056\n",
       "16. 0.992694372246778\n",
       "17. 1.0577848132694\n",
       "18. 0.319625045338054\n",
       "19. -0.989171270294627\n",
       "20. -0.640533561449097\n",
       "21. 1.0646197032913\n",
       "22. 0.403771555061852\n",
       "23. -1.75837508773163\n",
       "24. -0.53454024545977\n",
       "25. -2.25836064047453\n",
       "26. 1.42608795064692\n",
       "27. 0.835395515034678\n",
       "28. 1.69642666045429\n",
       "29. 0.411993976077305\n",
       "30. 0.543941297973361\n",
       "31. -1.13728825300636\n",
       "32. -0.0382239622464657\n",
       "33. -1.13447373060495\n",
       "34. 0.294451523328122\n",
       "35. 0.888144060326363\n",
       "36. -1.12509000095514\n",
       "37. 0.0604481702481791\n",
       "38. 0.26099109009689\n",
       "39. -0.706245254596521\n",
       "40. -1.59783426806574\n",
       "41. -1.48974380610522\n",
       "42. -0.555009179864553\n",
       "43. -0.66973309607245\n",
       "44. 0.118484858489761\n",
       "45. -1.41105225081528\n",
       "46. -0.491573874524247\n",
       "47. -0.423047660190062\n",
       "48. 1.25723449037396\n",
       "49. -0.223866128295892\n",
       "50. -1.04205722815436\n",
       "\n",
       "\n"
      ],
      "text/plain": [
       " [1]  2.14688527  0.43900888  1.94315332  1.11908061  0.19019326  0.47423115\n",
       " [7]  0.32268065  0.91954039 -0.20037535  0.90175421  2.03884009 -0.22528123\n",
       "[13]  0.27135767  0.59818124  1.43862801  0.99269437  1.05778481  0.31962505\n",
       "[19] -0.98917127 -0.64053356  1.06461970  0.40377156 -1.75837509 -0.53454025\n",
       "[25] -2.25836064  1.42608795  0.83539552  1.69642666  0.41199398  0.54394130\n",
       "[31] -1.13728825 -0.03822396 -1.13447373  0.29445152  0.88814406 -1.12509000\n",
       "[37]  0.06044817  0.26099109 -0.70624525 -1.59783427 -1.48974381 -0.55500918\n",
       "[43] -0.66973310  0.11848486 -1.41105225 -0.49157387 -0.42304766  1.25723449\n",
       "[49] -0.22386613 -1.04205723"
      ]
     },
     "metadata": {},
     "output_type": "display_data"
    }
   ],
   "source": [
    "# this function can generate random numbers\n",
    "x = rnorm(50)\n",
    "x"
   ]
  },
  {
   "cell_type": "code",
   "execution_count": 22,
   "metadata": {
    "vscode": {
     "languageId": "r"
    }
   },
   "outputs": [
    {
     "data": {
      "text/html": [
       "0.996090344852545"
      ],
      "text/latex": [
       "0.996090344852545"
      ],
      "text/markdown": [
       "0.996090344852545"
      ],
      "text/plain": [
       "[1] 0.9960903"
      ]
     },
     "metadata": {},
     "output_type": "display_data"
    }
   ],
   "source": [
    "# those random numbers can be used for the input of other functions. Here, we change the default mean and standard deviation from \"0 and 1\" to \"50 and 0.1\"\n",
    "y = x + rnorm(50, mean  = 50, sd = .1)\n",
    "\n",
    "cor(x, y)"
   ]
  },
  {
   "cell_type": "code",
   "execution_count": 40,
   "metadata": {
    "vscode": {
     "languageId": "r"
    }
   },
   "outputs": [
    {
     "data": {
      "text/html": [
       "<style>\n",
       ".list-inline {list-style: none; margin:0; padding: 0}\n",
       ".list-inline>li {display: inline-block}\n",
       ".list-inline>li:not(:last-child)::after {content: \"\\00b7\"; padding: 0 .5ex}\n",
       "</style>\n",
       "<ol class=list-inline><li>-1.14397631447974</li><li>1.34212936561501</li><li>2.18539047574276</li><li>0.536392517923731</li><li>0.0631929664685468</li><li>0.502234482468979</li><li>-0.000416724686432643</li><li>0.565819840539162</li><li>-0.572522688962623</li><li>-1.11022500727696</li><li>-0.0486871233624514</li><li>-0.695656217619366</li><li>0.828917480303335</li><li>0.206652855081802</li><li>-0.235674509102427</li><li>-0.556310491381104</li><li>-0.364754357080585</li><li>0.862355034263622</li><li>-0.63077153536771</li><li>0.313602125215739</li></ol>\n"
      ],
      "text/latex": [
       "\\begin{enumerate*}\n",
       "\\item -1.14397631447974\n",
       "\\item 1.34212936561501\n",
       "\\item 2.18539047574276\n",
       "\\item 0.536392517923731\n",
       "\\item 0.0631929664685468\n",
       "\\item 0.502234482468979\n",
       "\\item -0.000416724686432643\n",
       "\\item 0.565819840539162\n",
       "\\item -0.572522688962623\n",
       "\\item -1.11022500727696\n",
       "\\item -0.0486871233624514\n",
       "\\item -0.695656217619366\n",
       "\\item 0.828917480303335\n",
       "\\item 0.206652855081802\n",
       "\\item -0.235674509102427\n",
       "\\item -0.556310491381104\n",
       "\\item -0.364754357080585\n",
       "\\item 0.862355034263622\n",
       "\\item -0.63077153536771\n",
       "\\item 0.313602125215739\n",
       "\\end{enumerate*}\n"
      ],
      "text/markdown": [
       "1. -1.14397631447974\n",
       "2. 1.34212936561501\n",
       "3. 2.18539047574276\n",
       "4. 0.536392517923731\n",
       "5. 0.0631929664685468\n",
       "6. 0.502234482468979\n",
       "7. -0.000416724686432643\n",
       "8. 0.565819840539162\n",
       "9. -0.572522688962623\n",
       "10. -1.11022500727696\n",
       "11. -0.0486871233624514\n",
       "12. -0.695656217619366\n",
       "13. 0.828917480303335\n",
       "14. 0.206652855081802\n",
       "15. -0.235674509102427\n",
       "16. -0.556310491381104\n",
       "17. -0.364754357080585\n",
       "18. 0.862355034263622\n",
       "19. -0.63077153536771\n",
       "20. 0.313602125215739\n",
       "\n",
       "\n"
      ],
      "text/plain": [
       " [1] -1.1439763145  1.3421293656  2.1853904757  0.5363925179  0.0631929665\n",
       " [6]  0.5022344825 -0.0004167247  0.5658198405 -0.5725226890 -1.1102250073\n",
       "[11] -0.0486871234 -0.6956562176  0.8289174803  0.2066528551 -0.2356745091\n",
       "[16] -0.5563104914 -0.3647543571  0.8623550343 -0.6307715354  0.3136021252"
      ]
     },
     "metadata": {},
     "output_type": "display_data"
    }
   ],
   "source": [
    "# to make sure the random numbers always the same in this run, \"set.seed()\" function can be used\n",
    "set.seed(1303)\n",
    "rnorm(20)"
   ]
  },
  {
   "cell_type": "code",
   "execution_count": 41,
   "metadata": {
    "vscode": {
     "languageId": "r"
    }
   },
   "outputs": [
    {
     "data": {
      "text/html": [
       "0.0110355710943716"
      ],
      "text/latex": [
       "0.0110355710943716"
      ],
      "text/markdown": [
       "0.0110355710943716"
      ],
      "text/plain": [
       "[1] 0.01103557"
      ]
     },
     "metadata": {},
     "output_type": "display_data"
    },
    {
     "data": {
      "text/html": [
       "0.732867501277449"
      ],
      "text/latex": [
       "0.732867501277449"
      ],
      "text/markdown": [
       "0.732867501277449"
      ],
      "text/plain": [
       "[1] 0.7328675"
      ]
     },
     "metadata": {},
     "output_type": "display_data"
    },
    {
     "data": {
      "text/html": [
       "0.856076808047881"
      ],
      "text/latex": [
       "0.856076808047881"
      ],
      "text/markdown": [
       "0.856076808047881"
      ],
      "text/plain": [
       "[1] 0.8560768"
      ]
     },
     "metadata": {},
     "output_type": "display_data"
    },
    {
     "data": {
      "text/html": [
       "0.856076808047881"
      ],
      "text/latex": [
       "0.856076808047881"
      ],
      "text/markdown": [
       "0.856076808047881"
      ],
      "text/plain": [
       "[1] 0.8560768"
      ]
     },
     "metadata": {},
     "output_type": "display_data"
    }
   ],
   "source": [
    "# This function will make reproducing result from the book much easier\n",
    "set.seed(3)\n",
    "y = rnorm(100)\n",
    "mean(y)\n",
    "var(y)\n",
    "sqrt(var(y))\n",
    "sd(y)"
   ]
  },
  {
   "cell_type": "markdown",
   "metadata": {},
   "source": [
    "### Section 2.3.2 - Graphics"
   ]
  },
  {
   "cell_type": "code",
   "execution_count": null,
   "metadata": {
    "vscode": {
     "languageId": "r"
    }
   },
   "outputs": [],
   "source": []
  }
 ],
 "metadata": {
  "kernelspec": {
   "display_name": "R",
   "language": "R",
   "name": "ir"
  },
  "language_info": {
   "codemirror_mode": "r",
   "file_extension": ".r",
   "mimetype": "text/x-r-source",
   "name": "R",
   "pygments_lexer": "r",
   "version": "4.1.2"
  }
 },
 "nbformat": 4,
 "nbformat_minor": 2
}
